{
 "cells": [
  {
   "cell_type": "markdown",
   "id": "ddacf4d3-1952-4bd0-948d-fffa353683ec",
   "metadata": {},
   "source": [
    "# Cosmic Ray Shower Masking Tool\n",
    "Author: Mike Engesser  - mengesser@stsci.edu\n",
    "## Instructions\n",
    "\n",
    "This is a tool designed to simplify the process of masking cosmic ray showers in MIRI data that is not easily detected or removed by the JWST Calibration Pipeline. \n",
    "\n",
    "### Shower Artifacts and why they persist\n",
    "Cosmic ray showers are a type of cosmic ray unique to MIRI (see https://jwst-docs.stsci.edu/jwst-mid-infrared-instrument/miri-instrument-features-and-caveats) that are not easily detected by the standard JUMP step. An additional shower masking step attempts to detect the low level glow that persists for a number of groups and masks them using an ellipse in the DQ plane. \n",
    "\n",
    "Some showers are bright and persist for long durations of time. The JUMP step masks the shower for a default duration of 20s after the hit. However, many showers persist for much longer. This duration can be modified with the `time_masked_after_showers` argument. Complications arise when showers occur either 1) during idle, so no jump is detected, and persists into the integration or 2) with no bright primary hit, leaving the faint glow undetected.\n",
    "\n",
    "### Manual Masking of Showers\n",
    "\n",
    "The best way to circumvent this in the short term to is mask such showers by hand in Python. We can edit the Data Quality (DQ) plane of the data to include undetected showers. The process would go as follows: \n",
    "\n",
    "1. Save the output of the JUMP step using `save_results = True`.\n",
    "2. Open the \"_jump.fits\" file in python/DS9/Jupyter Notebook.\n",
    "3. Create an elliptical mask at the 4D coordinate of the shower.\n",
    "4. Set all coordinates interior to that ellipse to a value of 4 (Jump) in the DQ array.\n",
    "5. Do the same in each sebsequent group in the same integration. \n",
    "6. Repeat for all unmasked showers.\n",
    "7. Save to a new \".fits\" file and continue on with the JWST pipeline.\n",
    "\n",
    "This tool is designed to simplify and streamline this process using an interactive GUI. The app takes a file name as input, and displays the data using `matplotlib`. \n",
    "\n",
    "#### Notes for use:\n",
    "- There is a slider to adjust the image scale factor, as well as buttons to change the group and integration number.\n",
    "- In order to make seeing the showers easier, each frame after the first is actually a difference image from the frame before.\n",
    "- You can pan and zoom on the figure using the buttons at the bottom.\n",
    "- The current DQ plane is overlayed on the image, and its opacity can be adjusted with the \"DQ Opacity\" slider. \n",
    "- An ellipse will appear at the location of your mouse-click in red.\n",
    "- The ellipse can be modified with the \"Theta\", \"Semi-Major Axis\" and \"Semi-Minor Axis\" sliders in order to match a given shower. \n",
    "- The \"Mark Shower\" Button will record the current ellipse coordinates and parameters. \n",
    "- A green ellipse will display showers that have been recorded with the \"Mark Shower\" button. It will only display on groups for which the shower will be masked (ie, all groups from first appearance to the end of the integration, and not in groups before the shower, or in subsequent integrations.)\n",
    "- When finished marking showers, the \"Save\" button will add the new masks to the DQ array, and save a new \"_showers_masked.fits\" file. \n",
    "- The \"Quit\" button will close the window. \n",
    "\n",
    "Two additional notes that are important are as follows:\n",
    "1. Bright showers are usually much larger in the first frame in which they appear, so it is usually better to adjust the size of the ellipse to match the shower's appearance in the next frame, to avoid masking too-many pixels. \n",
    "2. Showers will have positive impact on the ramp even after it becomes difficult to see the glow in the difference images. For this reason, showers are always masked until the end of the integration.\n",
    "3. You may also use the output of the RAMP_FIT step (\"_rate.fits\" or \"_rate_ints.fits\") as input. This will mask the shower in the DQ plane of the rate image, which may result in lower Signal-to-Noise for those pixels when creating a mosaic if there are any unaffected pixels in the original ramp. However, this can be a good first pass for problem showers."
   ]
  },
  {
   "cell_type": "markdown",
   "id": "ed365453-79bf-4166-aaac-8504d07048c8",
   "metadata": {},
   "source": [
    "# Import Module"
   ]
  },
  {
   "cell_type": "code",
   "execution_count": null,
   "id": "7b4efb28-3695-4405-82b3-5d73ede05d2e",
   "metadata": {},
   "outputs": [],
   "source": [
    "from MaskShowers import InteractiveShowerMasking"
   ]
  },
  {
   "cell_type": "markdown",
   "id": "8792b0eb-bb6e-49cc-a66d-28b13ac4c77b",
   "metadata": {},
   "source": [
    "# Open App"
   ]
  },
  {
   "cell_type": "code",
   "execution_count": null,
   "id": "63d4fdaf-00dd-4356-8f80-6173ac4f55bb",
   "metadata": {},
   "outputs": [],
   "source": [
    "fname = '../jw01517179001_02201_00001_mirimage_jump.fits'\n",
    "\n",
    "app = InteractiveShowerMasking(fname)"
   ]
  },
  {
   "cell_type": "markdown",
   "id": "0c513bc9-519b-4ca8-bebc-23b2a151d43c",
   "metadata": {},
   "source": [
    "# Print the recorded mask parameters\n",
    "\n",
    "Here we can print out the parameters of each mask after running the app. This is not necessary, but can be useful if another pass of the tool is needed. "
   ]
  },
  {
   "cell_type": "code",
   "execution_count": null,
   "id": "7750c507-0c36-42e1-905a-08bd4189ed6e",
   "metadata": {},
   "outputs": [],
   "source": [
    "for coord in app.coordinates_list:\n",
    "    for idx, name in enumerate(app.coordinates_names):\n",
    "        value = coord[idx]\n",
    "        print(\"{}: {}\".format(name,value))\n",
    "    print('\\n')"
   ]
  }
 ],
 "metadata": {
  "kernelspec": {
   "display_name": "Python [conda env:rts]",
   "language": "python",
   "name": "conda-env-rts-py"
  },
  "language_info": {
   "codemirror_mode": {
    "name": "ipython",
    "version": 3
   },
   "file_extension": ".py",
   "mimetype": "text/x-python",
   "name": "python",
   "nbconvert_exporter": "python",
   "pygments_lexer": "ipython3",
   "version": "3.10.4"
  }
 },
 "nbformat": 4,
 "nbformat_minor": 5
}
